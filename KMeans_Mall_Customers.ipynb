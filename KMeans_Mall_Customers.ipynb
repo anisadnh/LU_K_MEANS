{
 "cells": [
  {
   "cell_type": "markdown",
   "id": "776c7503",
   "metadata": {},
   "source": [
    "# KMeans Mall Customers Segmentation\n",
    "Google Colab compatible notebook"
   ]
  },
  {
   "cell_type": "code",
   "execution_count": null,
   "id": "a5b8f5ee",
   "metadata": {},
   "outputs": [],
   "source": [
    "!pip install seaborn scikit-learn --quiet"
   ]
  },
  {
   "cell_type": "code",
   "execution_count": null,
   "id": "00de27af",
   "metadata": {},
   "outputs": [],
   "source": [
    "\n",
    "import pandas as pd\n",
    "import matplotlib.pyplot as plt\n",
    "import seaborn as sns\n",
    "from sklearn.cluster import KMeans\n",
    "from sklearn.preprocessing import StandardScaler\n",
    "from google.colab import files\n"
   ]
  },
  {
   "cell_type": "code",
   "execution_count": null,
   "id": "f0c785b2",
   "metadata": {},
   "outputs": [],
   "source": [
    "# Upload dataset manually in Colab\n",
    "uploaded = files.upload()"
   ]
  },
  {
   "cell_type": "code",
   "execution_count": null,
   "id": "28450eab",
   "metadata": {},
   "outputs": [],
   "source": [
    "# Load dataset (after upload)\n",
    "data = pd.read_csv(\"Mall_Customers.csv\")\n",
    "data.head()"
   ]
  },
  {
   "cell_type": "code",
   "execution_count": null,
   "id": "a4fd345a",
   "metadata": {},
   "outputs": [],
   "source": [
    "# Select relevant features\n",
    "X = data[[\"Annual Income (k$)\", \"Spending Score (1-100)\"]]\n",
    "\n",
    "# Scale data\n",
    "scaler = StandardScaler()\n",
    "X_scaled = scaler.fit_transform(X)"
   ]
  },
  {
   "cell_type": "code",
   "execution_count": null,
   "id": "3c20fc63",
   "metadata": {},
   "outputs": [],
   "source": [
    "# Elbow Method to determine optimal K\n",
    "sse = []\n",
    "for k in range(1, 11):\n",
    "    kmeans = KMeans(n_clusters=k, random_state=42)\n",
    "    kmeans.fit(X_scaled)\n",
    "    sse.append(kmeans.inertia_)\n",
    "\n",
    "plt.figure(figsize=(8, 4))\n",
    "plt.plot(range(1, 11), sse, marker='o')\n",
    "plt.xlabel(\"Number of Clusters (k)\")\n",
    "plt.ylabel(\"SSE / Inertia\")\n",
    "plt.title(\"Elbow Method For Optimal k\")\n",
    "plt.grid(True)\n",
    "plt.show()"
   ]
  },
  {
   "cell_type": "code",
   "execution_count": null,
   "id": "7b996297",
   "metadata": {},
   "outputs": [],
   "source": [
    "# Apply KMeans with optimal k (e.g., 5)\n",
    "kmeans = KMeans(n_clusters=5, random_state=42)\n",
    "clusters = kmeans.fit_predict(X_scaled)\n",
    "data['Cluster'] = clusters"
   ]
  },
  {
   "cell_type": "code",
   "execution_count": null,
   "id": "4ff9df0e",
   "metadata": {},
   "outputs": [],
   "source": [
    "# Visualize the clusters\n",
    "plt.figure(figsize=(8, 6))\n",
    "sns.scatterplot(x=\"Annual Income (k$)\", y=\"Spending Score (1-100)\", \n",
    "                hue=\"Cluster\", palette=\"Set1\", data=data)\n",
    "plt.title(\"Customer Segments using K-Means Clustering\")\n",
    "plt.xlabel(\"Annual Income (k$)\")\n",
    "plt.ylabel(\"Spending Score (1–100)\")\n",
    "plt.legend()\n",
    "plt.show()"
   ]
  }
 ],
 "metadata": {
  "language": "python"
 },
 "nbformat": 4,
 "nbformat_minor": 5
}
